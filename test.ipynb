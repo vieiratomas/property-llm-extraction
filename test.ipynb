{
 "cells": [
  {
   "cell_type": "markdown",
   "metadata": {},
   "source": [
    "**Import libraries**"
   ]
  },
  {
   "cell_type": "code",
   "execution_count": 1,
   "metadata": {},
   "outputs": [],
   "source": [
    "from typing import Optional, Dict, List, TypedDict\n",
    "import uuid\n",
    "import json\n",
    "\n",
    "from langchain_core.pydantic_v1 import BaseModel, Field\n",
    "from langchain_core.prompts import ChatPromptTemplate, MessagesPlaceholder\n",
    "from langchain_openai import ChatOpenAI\n",
    "from langchain_core.messages import (\n",
    "    AIMessage,\n",
    "    BaseMessage,\n",
    "    HumanMessage,\n",
    "    SystemMessage,\n",
    "    ToolMessage,\n",
    ")\n",
    "\n",
    "import os\n",
    "from dotenv import load_dotenv\n",
    "\n",
    "# import warnings\n",
    "# warnings.filterwarnings(\"ignore\")"
   ]
  },
  {
   "cell_type": "markdown",
   "metadata": {},
   "source": [
    "**Define schema**"
   ]
  },
  {
   "cell_type": "code",
   "execution_count": 2,
   "metadata": {},
   "outputs": [],
   "source": [
    "class Property(BaseModel):\n",
    "    \"\"\"Information about a specific property, including its location, features, and amenities.\"\"\"\n",
    "\n",
    "    location: Optional[str] = Field(description=\"The location of the property\")\n",
    "\n",
    "    number_of_bedrooms: Optional[int] = Field(\n",
    "        default=None, description=\"The total count of bedrooms in the property. This should be a non-negative integer.\"\n",
    "    )\n",
    "    number_of_bathrooms: Optional[int] = Field(\n",
    "        default=None, description=\"The total count of bathrooms in the property, including both full and half bathrooms.\"\n",
    "    )\n",
    "    floor_number: Optional[int] = Field(\n",
    "        default=None, description=\"The specific floor on which the property is located, if applicable. For single-story properties, this can be omitted.\"\n",
    "    )\n",
    "    \n",
    "    elevator_access: Optional[bool] = Field(\n",
    "        default=None, description=\"Indicates whether the property can be accessed via an elevator.\"\n",
    "    )\n",
    "    parking: Optional[bool] = Field(\n",
    "        default=None, description=\"Indicates whether parking facilities are available at the property.\"\n",
    "    )\n",
    "    air_conditioning: Optional[bool] = Field(\n",
    "        default=None, description=\"Whether the property has air conditioning\"\n",
    "    )\n"
   ]
  },
  {
   "cell_type": "markdown",
   "metadata": {},
   "source": [
    "**Prompt Template**"
   ]
  },
  {
   "cell_type": "code",
   "execution_count": 3,
   "metadata": {},
   "outputs": [],
   "source": [
    "prompt = ChatPromptTemplate.from_messages(\n",
    "    [\n",
    "        (\n",
    "            \"system\",\n",
    "            \"You are a specialized extraction algorithm trained to analyze real estate descriptions. \"\n",
    "            \"Your task is to identify and extract specific property details from the provided text accurately. \"\n",
    "            \"Extract attributes like location, number of bedrooms, bathrooms, floor number, elevator access, and parking availability. \"\n",
    "            \"If an attribute is not mentioned in the text, you should return 'null' for that attribute. \"\n",
    "            \"Focus on the precision and relevance of the information extracted.\"\n",
    "        ),\n",
    "\n",
    "        MessagesPlaceholder(\"examples\"),\n",
    "        \n",
    "        (\"human\", \"{text}\"),\n",
    "    ]\n",
    ")"
   ]
  },
  {
   "cell_type": "markdown",
   "metadata": {},
   "source": [
    "**Model**\n",
    "\n",
    "(0 temperature means deterministic)"
   ]
  },
  {
   "cell_type": "code",
   "execution_count": 4,
   "metadata": {},
   "outputs": [],
   "source": [
    "api_key = os.getenv(\"OPENAI_API_KEY\")"
   ]
  },
  {
   "cell_type": "code",
   "execution_count": 5,
   "metadata": {},
   "outputs": [],
   "source": [
    "llm = ChatOpenAI(\n",
    "    model_name=\"gpt-4\",\n",
    "    temperature=0.0,\n",
    "    openai_api_key=api_key\n",
    ")"
   ]
  },
  {
   "cell_type": "markdown",
   "metadata": {},
   "source": [
    "**Create extractor**"
   ]
  },
  {
   "cell_type": "code",
   "execution_count": 6,
   "metadata": {},
   "outputs": [],
   "source": [
    "runnable = prompt | llm.with_structured_output(\n",
    "    schema=Property,\n",
    "    method=\"function_calling\",\n",
    "    include_raw=False\n",
    ")"
   ]
  },
  {
   "cell_type": "markdown",
   "metadata": {},
   "source": [
    "**Extract** (without examples)"
   ]
  },
  {
   "cell_type": "code",
   "execution_count": 7,
   "metadata": {},
   "outputs": [
    {
     "data": {
      "text/plain": [
       "Property(location='near the beach', number_of_bedrooms=3, number_of_bathrooms=2, floor_number=None, elevator_access=None, parking=True, air_conditioning=None)"
      ]
     },
     "execution_count": 7,
     "metadata": {},
     "output_type": "execute_result"
    }
   ],
   "source": [
    "# Load the transcript and run the model\n",
    "\n",
    "transcript_path = \"transcripts/transcript_1.txt\"\n",
    "\n",
    "with open(transcript_path, 'r') as file:\n",
    "    transcript_string = file.read()\n",
    "\n",
    "property_schema = runnable.invoke({\"text\": transcript_string, \"examples\": []})\n",
    "\n",
    "property_schema"
   ]
  },
  {
   "cell_type": "markdown",
   "metadata": {},
   "source": [
    "**Save as json**"
   ]
  },
  {
   "cell_type": "code",
   "execution_count": 8,
   "metadata": {},
   "outputs": [],
   "source": [
    "property_schema_json = property_schema.json()\n",
    "\n",
    "file_path = \"property_schema.json\"\n",
    "with open(file_path, 'w') as file:\n",
    "    json.dump(property_schema_json, file)\n"
   ]
  },
  {
   "cell_type": "markdown",
   "metadata": {},
   "source": [
    "### Using examples"
   ]
  },
  {
   "cell_type": "markdown",
   "metadata": {},
   "source": [
    "**Define example obejct and adapter**"
   ]
  },
  {
   "cell_type": "code",
   "execution_count": 9,
   "metadata": {},
   "outputs": [],
   "source": [
    "\n",
    "class Example(TypedDict):\n",
    "    \"\"\"A representation of an example consisting of text input and expected tool calls.\n",
    "\n",
    "    For extraction, the tool calls are represented as instances of pydantic model.\n",
    "    \"\"\"\n",
    "\n",
    "    input: str  # This is the example text\n",
    "    tool_calls: List[BaseModel]  # Instances of pydantic model that should be extracted\n",
    "\n",
    "\n",
    "def tool_example_to_messages(example: Example) -> List[BaseMessage]:\n",
    "    \"\"\"Convert an example into a list of messages that can be fed into an LLM.\n",
    "\n",
    "    This code is an adapter that converts our example to a list of messages\n",
    "    that can be fed into a chat model.\n",
    "\n",
    "    The list of messages per example corresponds to:\n",
    "\n",
    "    1) HumanMessage: contains the content from which content should be extracted.\n",
    "    2) AIMessage: contains the extracted information from the model\n",
    "    3) ToolMessage: contains confirmation to the model that the model requested a tool correctly.\n",
    "\n",
    "    The ToolMessage is required because some of the chat models are hyper-optimized for agents\n",
    "    rather than for an extraction use case.\n",
    "    \"\"\"\n",
    "    messages: List[BaseMessage] = [HumanMessage(content=example[\"input\"])]\n",
    "    openai_tool_calls = []\n",
    "    for tool_call in example[\"tool_calls\"]:\n",
    "        openai_tool_calls.append(\n",
    "            {\n",
    "                \"id\": str(uuid.uuid4()),\n",
    "                \"type\": \"function\",\n",
    "                \"function\": {\n",
    "                    \"name\": tool_call.__class__.__name__,\n",
    "                    \"arguments\": tool_call.json(),\n",
    "                },\n",
    "            }\n",
    "        )\n",
    "\n",
    "    messages.append(\n",
    "        AIMessage(content=\"\", additional_kwargs={\"tool_calls\": openai_tool_calls})\n",
    "    )\n",
    "\n",
    "    tool_outputs = example.get(\"tool_outputs\") or [\n",
    "        \"You have correctly called this tool.\"\n",
    "    ] * len(openai_tool_calls)\n",
    "\n",
    "    for output, tool_call in zip(tool_outputs, openai_tool_calls):\n",
    "        messages.append(ToolMessage(content=output, tool_call_id=tool_call[\"id\"]))\n",
    "        \n",
    "    return messages"
   ]
  },
  {
   "cell_type": "markdown",
   "metadata": {},
   "source": [
    "**Examples**"
   ]
  },
  {
   "cell_type": "code",
   "execution_count": 10,
   "metadata": {},
   "outputs": [],
   "source": [
    "examples = [\n",
    "    (\n",
    "        \"Beautiful two-bedroom, two-bathroom apartment located in downtown Chicago on the 15th floor, with elevator access and a secure parking spot.\",\n",
    "        Property(\n",
    "            location=\"downtown Chicago\",\n",
    "            number_of_bedrooms=2,\n",
    "            number_of_bathrooms=2,\n",
    "            floor_number=15,\n",
    "            elevator_access=True,\n",
    "            parking=True\n",
    "        ),\n",
    "    ),\n",
    "    (\n",
    "        \"Cozy cabin in the woods with one bedroom and a bathroom but no garage. Located near Lake Tahoe.\",\n",
    "        Property(\n",
    "            location=\"near Lake Tahoe\",\n",
    "            number_of_bedrooms=1,\n",
    "            number_of_bathrooms=1,\n",
    "            floor_number=None,\n",
    "            elevator_access=None,\n",
    "            parking=False\n",
    "        ),\n",
    "    ),\n",
    "    (\n",
    "        \"Luxury villa with multiple balconies, located in Beverly Hills. Comes with private parking and exclusive amenities.\",\n",
    "        Property(\n",
    "            location=\"Beverly Hills\",\n",
    "            number_of_bedrooms=None,  # Assume bedrooms not specified\n",
    "            number_of_bathrooms=None,  # Assume bathrooms not specified\n",
    "            floor_number=None,\n",
    "            elevator_access=None,\n",
    "            parking=True\n",
    "        ),\n",
    "    ),\n",
    "    (\n",
    "        \"The weather is sunny and the beach is crowded today.\",\n",
    "        Property(\n",
    "            location=None,\n",
    "            number_of_bedrooms=None,\n",
    "            number_of_bathrooms=None,\n",
    "            floor_number=None,\n",
    "            elevator_access=None,\n",
    "            parking=None\n",
    "        ),\n",
    "    ),\n",
    "    (\n",
    "        \"The latest model of this car features an innovative parking assistant.\",\n",
    "        Property(\n",
    "            location=None,\n",
    "            number_of_bedrooms=None,\n",
    "            number_of_bathrooms=None,\n",
    "            floor_number=None,\n",
    "            elevator_access=None,\n",
    "            parking=None\n",
    "        ),\n",
    "    ),\n",
    "]"
   ]
  },
  {
   "cell_type": "code",
   "execution_count": 11,
   "metadata": {},
   "outputs": [
    {
     "data": {
      "text/plain": [
       "[HumanMessage(content='Beautiful two-bedroom, two-bathroom apartment located in downtown Chicago on the 15th floor, with elevator access and a secure parking spot.'),\n",
       " AIMessage(content='', additional_kwargs={'tool_calls': [{'id': '88dec37d-172f-47bd-ad72-9ffe56a975bc', 'type': 'function', 'function': {'name': 'Property', 'arguments': '{\"location\": \"downtown Chicago\", \"number_of_bedrooms\": 2, \"number_of_bathrooms\": 2, \"floor_number\": 15, \"elevator_access\": true, \"parking\": true, \"air_conditioning\": null}'}}]}, tool_calls=[{'name': 'Property', 'args': {'location': 'downtown Chicago', 'number_of_bedrooms': 2, 'number_of_bathrooms': 2, 'floor_number': 15, 'elevator_access': True, 'parking': True, 'air_conditioning': None}, 'id': '88dec37d-172f-47bd-ad72-9ffe56a975bc'}]),\n",
       " ToolMessage(content='You have correctly called this tool.', tool_call_id='88dec37d-172f-47bd-ad72-9ffe56a975bc'),\n",
       " HumanMessage(content='Cozy cabin in the woods with one bedroom and a bathroom but no garage. Located near Lake Tahoe.'),\n",
       " AIMessage(content='', additional_kwargs={'tool_calls': [{'id': '41cb0036-4233-4aab-8410-1da6279bebd7', 'type': 'function', 'function': {'name': 'Property', 'arguments': '{\"location\": \"near Lake Tahoe\", \"number_of_bedrooms\": 1, \"number_of_bathrooms\": 1, \"floor_number\": null, \"elevator_access\": null, \"parking\": false, \"air_conditioning\": null}'}}]}, tool_calls=[{'name': 'Property', 'args': {'location': 'near Lake Tahoe', 'number_of_bedrooms': 1, 'number_of_bathrooms': 1, 'floor_number': None, 'elevator_access': None, 'parking': False, 'air_conditioning': None}, 'id': '41cb0036-4233-4aab-8410-1da6279bebd7'}]),\n",
       " ToolMessage(content='You have correctly called this tool.', tool_call_id='41cb0036-4233-4aab-8410-1da6279bebd7'),\n",
       " HumanMessage(content='Luxury villa with multiple balconies, located in Beverly Hills. Comes with private parking and exclusive amenities.'),\n",
       " AIMessage(content='', additional_kwargs={'tool_calls': [{'id': '4e7732a7-4d34-4a43-aa0e-702377d1850e', 'type': 'function', 'function': {'name': 'Property', 'arguments': '{\"location\": \"Beverly Hills\", \"number_of_bedrooms\": null, \"number_of_bathrooms\": null, \"floor_number\": null, \"elevator_access\": null, \"parking\": true, \"air_conditioning\": null}'}}]}, tool_calls=[{'name': 'Property', 'args': {'location': 'Beverly Hills', 'number_of_bedrooms': None, 'number_of_bathrooms': None, 'floor_number': None, 'elevator_access': None, 'parking': True, 'air_conditioning': None}, 'id': '4e7732a7-4d34-4a43-aa0e-702377d1850e'}]),\n",
       " ToolMessage(content='You have correctly called this tool.', tool_call_id='4e7732a7-4d34-4a43-aa0e-702377d1850e'),\n",
       " HumanMessage(content='The weather is sunny and the beach is crowded today.'),\n",
       " AIMessage(content='', additional_kwargs={'tool_calls': [{'id': '4e8b5966-2db7-4ed8-a84b-14da666b0a89', 'type': 'function', 'function': {'name': 'Property', 'arguments': '{\"location\": null, \"number_of_bedrooms\": null, \"number_of_bathrooms\": null, \"floor_number\": null, \"elevator_access\": null, \"parking\": null, \"air_conditioning\": null}'}}]}, tool_calls=[{'name': 'Property', 'args': {'location': None, 'number_of_bedrooms': None, 'number_of_bathrooms': None, 'floor_number': None, 'elevator_access': None, 'parking': None, 'air_conditioning': None}, 'id': '4e8b5966-2db7-4ed8-a84b-14da666b0a89'}]),\n",
       " ToolMessage(content='You have correctly called this tool.', tool_call_id='4e8b5966-2db7-4ed8-a84b-14da666b0a89'),\n",
       " HumanMessage(content='The latest model of this car features an innovative parking assistant.'),\n",
       " AIMessage(content='', additional_kwargs={'tool_calls': [{'id': '5ec7482b-c998-4ddb-9d39-852286dacca1', 'type': 'function', 'function': {'name': 'Property', 'arguments': '{\"location\": null, \"number_of_bedrooms\": null, \"number_of_bathrooms\": null, \"floor_number\": null, \"elevator_access\": null, \"parking\": null, \"air_conditioning\": null}'}}]}, tool_calls=[{'name': 'Property', 'args': {'location': None, 'number_of_bedrooms': None, 'number_of_bathrooms': None, 'floor_number': None, 'elevator_access': None, 'parking': None, 'air_conditioning': None}, 'id': '5ec7482b-c998-4ddb-9d39-852286dacca1'}]),\n",
       " ToolMessage(content='You have correctly called this tool.', tool_call_id='5ec7482b-c998-4ddb-9d39-852286dacca1')]"
      ]
     },
     "execution_count": 11,
     "metadata": {},
     "output_type": "execute_result"
    }
   ],
   "source": [
    "messages = []\n",
    "\n",
    "for text_, tool_call in examples:\n",
    "    messages.extend(\n",
    "        tool_example_to_messages({\"input\": text_, \"tool_calls\": [tool_call]})\n",
    "    )\n",
    "\n",
    "messages"
   ]
  },
  {
   "cell_type": "code",
   "execution_count": 12,
   "metadata": {},
   "outputs": [],
   "source": [
    "property_schema = runnable.invoke({\"text\": transcript_string, \"examples\": messages})"
   ]
  },
  {
   "cell_type": "code",
   "execution_count": 13,
   "metadata": {},
   "outputs": [
    {
     "data": {
      "text/plain": [
       "Property(location=None, number_of_bedrooms=3, number_of_bathrooms=2, floor_number=None, elevator_access=None, parking=True, air_conditioning=None)"
      ]
     },
     "execution_count": 13,
     "metadata": {},
     "output_type": "execute_result"
    }
   ],
   "source": [
    "property_schema"
   ]
  }
 ],
 "metadata": {
  "kernelspec": {
   "display_name": "datascience",
   "language": "python",
   "name": "python3"
  },
  "language_info": {
   "codemirror_mode": {
    "name": "ipython",
    "version": 3
   },
   "file_extension": ".py",
   "mimetype": "text/x-python",
   "name": "python",
   "nbconvert_exporter": "python",
   "pygments_lexer": "ipython3",
   "version": "3.11.7"
  }
 },
 "nbformat": 4,
 "nbformat_minor": 2
}
